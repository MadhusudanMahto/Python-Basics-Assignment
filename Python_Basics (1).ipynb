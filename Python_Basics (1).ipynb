{
  "nbformat": 4,
  "nbformat_minor": 0,
  "metadata": {
    "colab": {
      "provenance": []
    },
    "kernelspec": {
      "name": "python3",
      "display_name": "Python 3"
    },
    "language_info": {
      "name": "python"
    }
  },
  "cells": [
    {
      "cell_type": "code",
      "execution_count": null,
      "metadata": {
        "id": "13IIx5VIOJWT"
      },
      "outputs": [],
      "source": []
    },
    {
      "cell_type": "markdown",
      "source": [
        "\n",
        "\n",
        "#Python Basics Assigmengt Answer.\n",
        "\n",
        "\n",
        "1. What is Python, and why is it popular?\n",
        "  \n",
        "  -Python is programming language which is widely used in the data industry,wed devlopment,Data Science and Machine learning.\n",
        "\n",
        "  -Its a versitile programming language.\n",
        "\n",
        "  -Its good for beigners and for experience ones.\n",
        "\n",
        "  -ItS consists of libraries,curently there are 1.37 lakh libraries in the Python\n",
        "\n",
        "   Its popular due thw following reasons.\n",
        "\n",
        "   1.Easy to learn and use.\n",
        "\n",
        "  2.Stong community support.\n",
        "\n",
        "  3.Huge library Ecosystem.\n",
        "\n",
        "  4.Widely use in the growth field.\n",
        "\n",
        "  5.Versitile\n",
        "\n",
        "\n",
        "\n",
        "2. What is an interpreter in Python ?\n",
        "  \n",
        "   An interpreter runs Python code line by line.\n",
        "\n",
        "   It reads the code, translates it, and executes it.\n",
        "\n",
        "   Python uses an interpreter, not a compiler.\n",
        "\n",
        "   It helps test and run code quickly.\n",
        "\n",
        "   CPython is the most common Python interpreter.\n",
        "\n",
        "   Key Functions of the Python Interpreter\n",
        "   - Reads source code\n",
        "  -Parses and translate\n",
        "\n",
        "\n",
        "\n",
        "3.What are pre-defined keywords in Python?\n",
        "\n",
        "   -Its bascially a place holder where we keep variety of data which we can use to write logic.\n",
        "\n",
        "\n",
        "   -example of pre-defined keys in Python.\n",
        "  -Numbers like integers/float,character,true and false,non ,break,class,continue,or,and soo on.\n",
        "\n",
        "\n",
        "\n",
        "\n",
        "4.Can keywords be used as variable names ?\n",
        "\n",
        "\n",
        "   -No,we cannot use keyword as variable name.\n",
        "\n",
        "\n",
        "\n",
        "\n",
        "5.What is mutability in Python ?\n",
        "\n",
        "-Mutability in Python refers to whether or not an object’s value can be changed after it is created.\n",
        "\n",
        " -These can be changed after creation. You can modify, add, or remove elements in place, without changing the object's identity.\n",
        "\n",
        "  Examples of mutable types:\n",
        "\n",
        "  list\n",
        "\n",
        "  dict\n",
        "\n",
        "  set\n",
        "\n",
        "  bytearray\n",
        "\n",
        "\n",
        "\n",
        "\n",
        "\n",
        "\n",
        "6.Why are lists mutable, but tuples are immutable ?\n",
        "\n",
        "  -Mutable means you can change the contents of the object after it's created.\n",
        "\n",
        "  -Immutable means once the object is created, you cannot change its contents.\n",
        "\n",
        "  \n",
        "\n",
        "\n",
        "7.What is the difference between “==” and “is” operators in Python ?\n",
        "\n",
        "   -Use ==: When comparing values, such as checking if two lists or strings contain the same elements.\n",
        "\n",
        "   Use is: When checking if two variables refer to the same object, which is particularly useful for singletons like None, True, or False.\n",
        "\n",
        "\n",
        " Avoid Using is for Value Comparison: Using is to compare values can lead to unexpected results due to Python's internal optimizations, such as interning small integers and strings.\n",
        "\n",
        "eg:-\n",
        "   a = 257\n",
        "\n",
        "\n",
        "  b = 257\n",
        "  print(a is b)  # Output: False\n",
        "  \n",
        "\n",
        "  Here, a and b are two different objects in memory, even though they have the same value, so a is b returns False.\n",
        "\n",
        "\n",
        "\n",
        "\n",
        "\n",
        "8.What are logical operators in Python ?\n",
        "\n",
        "Logical operators in Python are used to combine conditional statements. They return Boolean values (True or False) and are typically used in control flow and decision-making.\n",
        "\n",
        "Logical Operators in Python:\n",
        "and – Returns True if both statements are true.\n",
        "\n",
        "\n",
        "\n",
        "\n",
        "\n",
        "9.What is type casting in Python?\n",
        "\n",
        "\n",
        "Type casting in Python refers to the process of converting a variable from one data type to another. It’s a way to explicitly tell Python to treat a value as a different type (like converting a string to an integer, a float to a string, etc.).\n",
        "\n",
        "Types of Type Casting in Python\n",
        "1. Implicit Type Casting\n",
        "Python automatically converts one data type to another during an operation when appropriate.\n",
        "\n",
        "\n",
        "2. Explicit Type Casting\n",
        "You manually convert one data type to another using built-in functions.\n",
        "\n",
        "\n",
        "\n",
        "\n",
        "10.What is the difference between implicit and explicit type casting?\n",
        " The key difference between implicit and explicit type casting in Python lies in who performs the type conversion:\n",
        "\n",
        "1.Implicit Type Casting (Automatic Casting)\n",
        "Definition: Python automatically converts a data type to another when it feels the need during operations. This is done without the programmer's intervention.\n",
        "\n",
        "When it happens: Implicit type casting usually occurs when you perform operations involving different data types. Python will automatically \"promote\" a lower-type data (e.g., an integer) to a higher-type data (e.g., a float) when necessary.\n",
        "\n",
        "\n",
        "2.Explicit Type Casting (Manual Casting)\n",
        "Definition: The programmer explicitly tells Python to convert a variable from one data type to another using built-in functions such as int(), float(), str(), etc.\n",
        "\n",
        "When it happens: Explicit type casting is needed when Python doesn't automatically convert types or when the programmer wants to ensure a specific type conversion that may not be automatically handled.\n",
        "\n",
        "\n",
        "\n",
        "11. What is the purpose of conditional statements in Python?\n",
        "Conditional statements in Python, such as if, elif, and else, are fundamental tools that enable your programs to make decisions based on specific conditions. They allow your code to execute different blocks of instructions depending on whether certain criteria are met, making your programs dynamic and responsive to varying inputs or states.\n",
        "\n",
        "\n",
        "1.Decision-Making: Conditional statements let your program choose between different actions based on conditions. For example, you can check if a user is logged in before granting access to certain features.\n",
        "\n",
        "2.Flow Control: They control the flow of execution by determining which code block to run, allowing for more complex logic and behavior in your programs.\n",
        "\n",
        "3.Error Handling: Conditional statements can be used to check for potential errors or exceptional conditions, enabling your program to respond gracefully.\n",
        "\n",
        "4.User Interaction: They allow your program to respond differently to user inputs, enhancing interactivity and user experience.\n",
        "\n",
        "\n",
        "\n",
        "12.How does the elif statement work?\n",
        "\n",
        "  -he elif (short for \"else if\") statement in Python is used to check multiple conditions sequentially. It allows you to evaluate several expressions for truth value and execute a block of code as soon as one of the conditions is True.\n",
        "\n",
        "When an if statement evaluates to False, Python checks the conditions in the subsequent elif statements in the order they appear. If an elif condition evaluates to True, its corresponding block of code is executed, and the remaining elif and else blocks are skipped. If none of the if or elif conditions are True, the code in the else block is executed, if present.  \n",
        "\n",
        "\n",
        "\n",
        "\n",
        "13.What is the difference between for and while loops.\n",
        "  -In Python, both for and while loops are used to repeat a block of code, but they differ in their structure and typical use cases.\n",
        "\n",
        "\n",
        "Loop\n",
        "Purpose: Iterates over a sequence (like a list, tuple, string, or range) a specific number of times.\n",
        "\n",
        "while Loop\n",
        "Purpose: Repeats a block of code as long as a specified condition is True.\n",
        "\n",
        "\n",
        "\n",
        "14.Describe a scenario where a while loop is more suitable than a for loop.\n",
        "\n",
        "   -A while loop is particularly useful in scenarios where the number of iterations is not predetermined and depends on dynamic conditions evaluated during runtime.\n",
        "\n",
        "\n",
        " - The loop continues indefinitely (while True) until the user provides a valid input.\n",
        "\n",
        "  -The try-except block handles non-integer inputs gracefully.\n",
        "\n",
        "  -The if statement checks if the age is within the acceptable range.\n",
        "\n",
        "  -If the input is valid, break exits the loop; otherwise, the loop prompts the user again.  \n",
        "\n",
        "\n",
        "\n",
        "\n",
        "\n",
        "\n",
        "\n",
        "\n",
        "\n",
        "\n",
        "\n",
        "\n",
        "\n"
      ],
      "metadata": {
        "id": "2R9XH1yJOKNq"
      }
    },
    {
      "cell_type": "code",
      "source": [
        "from google.colab import drive\n",
        "drive.mount('/content/drive')"
      ],
      "metadata": {
        "id": "TA9j3GX6d-HX"
      },
      "execution_count": null,
      "outputs": []
    },
    {
      "cell_type": "markdown",
      "source": [
        "#Practical Questions.\n",
        "\n",
        "\n",
        " 1.Write a Python program to print \"Hello, World!\n"
      ],
      "metadata": {
        "id": "uJ8no-iLoumr"
      }
    },
    {
      "cell_type": "code",
      "source": [
        "print('Hello World')"
      ],
      "metadata": {
        "colab": {
          "base_uri": "https://localhost:8080/"
        },
        "id": "a6UHkxKfBtZw",
        "outputId": "4cfaa146-e79b-4bd1-b13e-78f260a13447"
      },
      "execution_count": 1,
      "outputs": [
        {
          "output_type": "stream",
          "name": "stdout",
          "text": [
            "Hello World\n"
          ]
        }
      ]
    },
    {
      "cell_type": "markdown",
      "source": [
        "2. Write a Python program that displays your name and age"
      ],
      "metadata": {
        "id": "RjDzbRIjCC6C"
      }
    },
    {
      "cell_type": "code",
      "source": [
        "name=\"Madhusudan\"\n",
        "Age=26\n",
        "print(\"Name\",name)\n",
        "print('Age',Age)"
      ],
      "metadata": {
        "colab": {
          "base_uri": "https://localhost:8080/"
        },
        "id": "CHSh1fB_CrLK",
        "outputId": "ed3ad9b1-cc0e-4a80-da9d-3311b4d1b3e3"
      },
      "execution_count": 4,
      "outputs": [
        {
          "output_type": "stream",
          "name": "stdout",
          "text": [
            "Name Madhusudan\n",
            "Age 26\n"
          ]
        }
      ]
    },
    {
      "cell_type": "markdown",
      "source": [
        "3.Write code to print all the pre-defined keywords in Python using the keyword library"
      ],
      "metadata": {
        "id": "m2XtLQxgDWci"
      }
    },
    {
      "cell_type": "code",
      "source": [
        "import keyword\n",
        "print(keyword.kwlist)"
      ],
      "metadata": {
        "colab": {
          "base_uri": "https://localhost:8080/"
        },
        "id": "w8ZF_FGCDdUC",
        "outputId": "222068e3-7849-42ec-c207-39496c05cfe9"
      },
      "execution_count": 6,
      "outputs": [
        {
          "output_type": "stream",
          "name": "stdout",
          "text": [
            "['False', 'None', 'True', 'and', 'as', 'assert', 'async', 'await', 'break', 'class', 'continue', 'def', 'del', 'elif', 'else', 'except', 'finally', 'for', 'from', 'global', 'if', 'import', 'in', 'is', 'lambda', 'nonlocal', 'not', 'or', 'pass', 'raise', 'return', 'try', 'while', 'with', 'yield']\n"
          ]
        }
      ]
    },
    {
      "cell_type": "markdown",
      "source": [
        "4.Write a program that checks if a given word is a Python keyword."
      ],
      "metadata": {
        "id": "5KavCki3EAmL"
      }
    },
    {
      "cell_type": "code",
      "source": [
        "import keyword\n",
        "word=input(\"Enter a word: \")\n",
        "print(\"Is keyword:\",keyword.iskeyword(word))"
      ],
      "metadata": {
        "colab": {
          "base_uri": "https://localhost:8080/"
        },
        "id": "yv3QqOmEET6N",
        "outputId": "acb329a7-3b1e-483f-8055-0b3c922e3df0"
      },
      "execution_count": 10,
      "outputs": [
        {
          "output_type": "stream",
          "name": "stdout",
          "text": [
            "Enter a word: hello\n",
            "Is keyword: False\n"
          ]
        }
      ]
    },
    {
      "cell_type": "markdown",
      "source": [
        "5.Create a list and tuple in Python, and demonstrate how attempting to change an element works differently\n",
        "for each."
      ],
      "metadata": {
        "id": "G9IEJLoUPW4l"
      }
    },
    {
      "cell_type": "code",
      "source": [
        "from ast import Expression\n",
        "# List(mutable)\n",
        "my_list = [1, 2, 3]\n",
        "my_list[0] = 10\n",
        "print(\"Modified list:\", my_list)\n",
        "\n",
        "# Tuple (imutable)\n",
        "my_list=(1, 2, 3)\n",
        "from ast import Expression\n",
        "# List(mutable)\n",
        "my_list = [1, 2, 3]\n",
        "my_list[0] = 10\n",
        "print(\"Modified list:\", my_list)\n",
        "\n",
        "# Tuple (imutable)\n",
        "my_tuple = (1, 2, 3)\n",
        "try:\n",
        "    my_tuple[0] = 10\n",
        "except TypeError:\n",
        "    print(\"Cannot modify tuple\")"
      ],
      "metadata": {
        "colab": {
          "base_uri": "https://localhost:8080/"
        },
        "id": "E2Vna5xDPeYF",
        "outputId": "2d3acd27-93e6-489b-a33d-1d49552dd853"
      },
      "execution_count": 11,
      "outputs": [
        {
          "output_type": "stream",
          "name": "stdout",
          "text": [
            "Modified list: [10, 2, 3]\n",
            "Modified list: [10, 2, 3]\n",
            "Cannot modify tuple\n"
          ]
        }
      ]
    },
    {
      "cell_type": "markdown",
      "source": [
        "6.6. Write a function to demonstrate the behavior of mutable and immutable arguments."
      ],
      "metadata": {
        "id": "5L6HYyeFPl6e"
      }
    },
    {
      "cell_type": "code",
      "source": [
        "def modify_list(lst):\n",
        "    lst.append(100)\n",
        "\n",
        "def modify_number(num):\n",
        "    num = 10\n",
        "\n",
        "my_list = [1, 2, 3]\n",
        "my_num = 5\n",
        "\n",
        "modify_list(my_list)\n",
        "modify_number(my_num)\n",
        "\n",
        "print(\"List:\", my_list)  # List modified\n",
        "print(\"Number:\", my_num)  # Number not modified"
      ],
      "metadata": {
        "colab": {
          "base_uri": "https://localhost:8080/"
        },
        "id": "gLWlZ3kuPrUt",
        "outputId": "20b7d0c9-6d61-421a-d677-5698f6eea248"
      },
      "execution_count": 12,
      "outputs": [
        {
          "output_type": "stream",
          "name": "stdout",
          "text": [
            "List: [1, 2, 3, 100]\n",
            "Number: 5\n"
          ]
        }
      ]
    },
    {
      "cell_type": "markdown",
      "source": [
        "7.. Write a program that performs basic arithmetic operations on two user-input numbers."
      ],
      "metadata": {
        "id": "EK5w2EeCRWXm"
      }
    },
    {
      "cell_type": "code",
      "source": [
        "a = int(input(\"Enter first number: \"))\n",
        "b = int(input(\"Enter second number: \"))\n",
        "print(\"Addition:\", a + b)\n",
        "print(\"Subtraction:\", a - b)\n",
        "print(\"Multiplication:\", a * b)\n",
        "print(\"Division:\", a / b)"
      ],
      "metadata": {
        "colab": {
          "base_uri": "https://localhost:8080/"
        },
        "id": "ABpG2iHtRcJt",
        "outputId": "39a6de83-7571-449a-c9bc-7b06909d34cc"
      },
      "execution_count": 13,
      "outputs": [
        {
          "output_type": "stream",
          "name": "stdout",
          "text": [
            "Enter first number: 1\n",
            "Enter second number: -3\n",
            "Addition: -2\n",
            "Subtraction: 4\n",
            "Multiplication: -3\n",
            "Division: -0.3333333333333333\n"
          ]
        }
      ]
    },
    {
      "cell_type": "markdown",
      "source": [
        "8.. Write a program to demonstrate the use of logical operators."
      ],
      "metadata": {
        "id": "mmWTeZgaSZpz"
      }
    },
    {
      "cell_type": "code",
      "source": [
        "a = 10\n",
        "b = 5\n",
        "print(a> 5 and b < 10)\n",
        "print(a> 15 or b < 10)\n",
        "print(not(a > 15))"
      ],
      "metadata": {
        "colab": {
          "base_uri": "https://localhost:8080/"
        },
        "id": "HmTWXIzSSe1M",
        "outputId": "b8b34eeb-9b90-431d-c22f-63a8c8cd2663"
      },
      "execution_count": 14,
      "outputs": [
        {
          "output_type": "stream",
          "name": "stdout",
          "text": [
            "True\n",
            "True\n",
            "True\n"
          ]
        }
      ]
    },
    {
      "cell_type": "markdown",
      "source": [
        "9. Write a Python program to convert user input from string to integer, float, and boolean types."
      ],
      "metadata": {
        "id": "Ze8ws6ZXT5VL"
      }
    },
    {
      "cell_type": "code",
      "source": [
        "def convert_input(user_input):\n",
        "    try:\n",
        "        int_val = int(user_input)\n",
        "    except ValueError:\n",
        "        int_val = None\n",
        "\n",
        "    try:\n",
        "        float_val = float(user_input)\n",
        "    except ValueError:\n",
        "        float_val = None\n",
        "\n",
        "    # For boolean, accept typical true/false representations\n",
        "    true_values = ['true', '1', 'yes', 'on']\n",
        "    false_values = ['false', '0', 'no', 'off']\n",
        "\n",
        "    input_lower = user_input.strip().lower()\n",
        "    if input_lower in true_values:\n",
        "        bool_val = True\n",
        "    elif input_lower in false_values:\n",
        "        bool_val = False\n",
        "    else:\n",
        "        bool_val = None\n",
        "\n",
        "    return int_val, float_val, bool_val\n",
        "\n",
        "# Main program\n",
        "user_input = input(\"Enter a value: \")\n",
        "int_result, float_result, bool_result = convert_input(user_input)\n",
        "\n",
        "print(f\"Integer conversion: {int_result}\")\n",
        "print(f\"Float conversion: {float_result}\")\n",
        "print(f\"Boolean conversion: {bool_result}\")\n"
      ],
      "metadata": {
        "colab": {
          "base_uri": "https://localhost:8080/"
        },
        "id": "vF9uR3oST_3M",
        "outputId": "c804cfbf-3ea6-433d-8bed-7234bc1740d6"
      },
      "execution_count": 15,
      "outputs": [
        {
          "output_type": "stream",
          "name": "stdout",
          "text": [
            "Enter a value: 50\n",
            "Integer conversion: 50\n",
            "Float conversion: 50.0\n",
            "Boolean conversion: None\n"
          ]
        }
      ]
    },
    {
      "cell_type": "markdown",
      "source": [
        "10.. Write code to demonstrate type casting with list elements."
      ],
      "metadata": {
        "id": "krabJipDUhzl"
      }
    },
    {
      "cell_type": "code",
      "source": [
        "# Original list with mixed types\n",
        "original_list = ['123', '45.67', 'True', 'None', 'hello']\n",
        "\n",
        "# Convert all elements to their respective types\n",
        "converted_list = [\n",
        "    int(item) if item.isdigit() else\n",
        "    float(item) if item.replace('.', '', 1).isdigit() else\n",
        "    eval(item) if item in ['True', 'False', 'None'] else\n",
        "    item\n",
        "    for item in original_list\n",
        "]\n",
        "\n",
        "print(\"Original List:\", original_list)\n",
        "print(\"Converted List:\", converted_list)\n"
      ],
      "metadata": {
        "colab": {
          "base_uri": "https://localhost:8080/"
        },
        "id": "2O80hmyPVRqC",
        "outputId": "63be9a89-8b30-4f99-df86-66bc1b91ed5b"
      },
      "execution_count": 16,
      "outputs": [
        {
          "output_type": "stream",
          "name": "stdout",
          "text": [
            "Original List: ['123', '45.67', 'True', 'None', 'hello']\n",
            "Converted List: [123, 45.67, True, None, 'hello']\n"
          ]
        }
      ]
    },
    {
      "cell_type": "markdown",
      "source": [
        "11. Write a program that checks if a number is positive, negative, or zero."
      ],
      "metadata": {
        "id": "sUOMheQAVWmF"
      }
    },
    {
      "cell_type": "code",
      "source": [
        "# Program to check if a number is positive, negative, or zero\n",
        "\n",
        "# Get input from the user\n",
        "num = float(input(\"Enter a number: \"))\n",
        "\n",
        "# Check if the number is positive, negative, or zero\n",
        "if num > 0:\n",
        "    print(\"The number is positive.\")\n",
        "elif num < 0:\n",
        "    print(\"The number is negative.\")\n",
        "else:\n",
        "    print(\"The number is zero.\")\n"
      ],
      "metadata": {
        "colab": {
          "base_uri": "https://localhost:8080/"
        },
        "id": "if0Mb0fcVdjF",
        "outputId": "ca21640b-1d51-4d0f-afef-bf858de81dbc"
      },
      "execution_count": 17,
      "outputs": [
        {
          "output_type": "stream",
          "name": "stdout",
          "text": [
            "Enter a number: 2\n",
            "The number is positive.\n"
          ]
        }
      ]
    },
    {
      "cell_type": "markdown",
      "source": [
        "12.Write a for loop to print numbers from 1 to 10."
      ],
      "metadata": {
        "id": "cp8obXLbWA8C"
      }
    },
    {
      "cell_type": "code",
      "source": [
        "for i in range(1, 11):\n",
        "    print(i)\n"
      ],
      "metadata": {
        "colab": {
          "base_uri": "https://localhost:8080/"
        },
        "id": "CkqFw9WsWGtz",
        "outputId": "592b2e29-2447-4bd3-dd19-c45e12e24fad"
      },
      "execution_count": 18,
      "outputs": [
        {
          "output_type": "stream",
          "name": "stdout",
          "text": [
            "1\n",
            "2\n",
            "3\n",
            "4\n",
            "5\n",
            "6\n",
            "7\n",
            "8\n",
            "9\n",
            "10\n"
          ]
        }
      ]
    },
    {
      "cell_type": "markdown",
      "source": [
        "13. Write a Python program to find the sum of all even numbers between 1 and 50."
      ],
      "metadata": {
        "id": "haF_dN48WcHb"
      }
    },
    {
      "cell_type": "code",
      "source": [
        "# Initialize the sum\n",
        "sum_even = 0\n",
        "\n",
        "# Loop through numbers from 1 to 50\n",
        "for number in range(1, 51):\n",
        "    if number % 2 == 0:\n",
        "        sum_even += number\n",
        "\n",
        "# Print the result\n",
        "print(\"The sum of all even numbers between 1 and 50 is:\", sum_even)\n"
      ],
      "metadata": {
        "colab": {
          "base_uri": "https://localhost:8080/"
        },
        "id": "FGIZ3ZkvWiE1",
        "outputId": "7ff4c39c-2801-4eb6-92d7-d69ed2542270"
      },
      "execution_count": 19,
      "outputs": [
        {
          "output_type": "stream",
          "name": "stdout",
          "text": [
            "The sum of all even numbers between 1 and 50 is: 650\n"
          ]
        }
      ]
    },
    {
      "cell_type": "markdown",
      "source": [
        "14.Write a program to reverse a string using a while loop."
      ],
      "metadata": {
        "id": "kexfAXsoWv_i"
      }
    },
    {
      "cell_type": "code",
      "source": [
        "def reverse_string(s):\n",
        "    reversed_s = \"\"\n",
        "    i = len(s) - 1\n",
        "    while i >= 0:\n",
        "        reversed_s += s[i]\n",
        "        i -= 1\n",
        "    return reversed_s\n",
        "\n",
        "# Example usage\n",
        "string = \"hello\"\n",
        "reversed_string = reverse_string(string)\n",
        "print(f\"Original string: {string}\")\n",
        "print(f\"Reversed string: {reversed_string}\")\n",
        "\n",
        "string = \"world\"\n",
        "reversed_string = reverse_string(string)\n",
        "print(f\"Original string: {string}\")\n",
        "print(f\"Reversed string: {reversed_string}\")"
      ],
      "metadata": {
        "colab": {
          "base_uri": "https://localhost:8080/"
        },
        "id": "TQzaR_QdaULj",
        "outputId": "1a3a51ea-5e58-411b-ec00-82008ae089a5"
      },
      "execution_count": 23,
      "outputs": [
        {
          "output_type": "stream",
          "name": "stdout",
          "text": [
            "Original string: hello\n",
            "Reversed string: olleh\n",
            "Original string: world\n",
            "Reversed string: dlrow\n"
          ]
        }
      ]
    },
    {
      "cell_type": "markdown",
      "source": [
        "15.. Write a Python program to calculate the factorial of a number provided by the user using a while loop."
      ],
      "metadata": {
        "id": "yOf5Vxf1aX8Z"
      }
    },
    {
      "cell_type": "code",
      "source": [
        "def factorial_while_loop(n):\n",
        "    \"\"\"Calculates the factorial of a non-negative integer using a while loop.\n",
        "\n",
        "    Args:\n",
        "        n: The non-negative integer for which to calculate the factorial.\n",
        "\n",
        "    Returns:\n",
        "        The factorial of n, or None if n is negative.\n",
        "    \"\"\"\n",
        "    if n < 0:\n",
        "        return None  # Factorial is not defined for negative numbers\n",
        "\n",
        "    factorial = 1\n",
        "    while n > 0:\n",
        "        factorial *= n\n",
        "        n -= 1\n",
        "    return factorial\n",
        "\n",
        "if __name__ == \"__main__\":\n",
        "    try:\n",
        "        num = int(input(\"Enter a non-negative integer: \"))\n",
        "        result = factorial_while_loop(num)\n",
        "        if result is not None:\n",
        "            print(f\"The factorial of {num} is {result}\")\n",
        "        else:\n",
        "            print(\"Factorial is not defined for negative numbers.\")\n",
        "    except ValueError:\n",
        "        print(\"Invalid input. Please enter an integer.\")"
      ],
      "metadata": {
        "colab": {
          "base_uri": "https://localhost:8080/"
        },
        "id": "DVlu71QKaemo",
        "outputId": "711eaedf-5634-48f0-c5c0-0f6c25526357"
      },
      "execution_count": 24,
      "outputs": [
        {
          "output_type": "stream",
          "name": "stdout",
          "text": [
            "Enter a non-negative integer: -3\n",
            "Factorial is not defined for negative numbers.\n"
          ]
        }
      ]
    }
  ]
}